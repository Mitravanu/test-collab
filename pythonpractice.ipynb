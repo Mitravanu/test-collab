{
  "nbformat": 4,
  "nbformat_minor": 0,
  "metadata": {
    "colab": {
      "name": "pythonpractice.ipynb",
      "provenance": [],
      "collapsed_sections": [],
      "authorship_tag": "ABX9TyN8HGDMHko/fgT/OInxDasa",
      "include_colab_link": true
    },
    "kernelspec": {
      "name": "python3",
      "display_name": "Python 3"
    },
    "language_info": {
      "name": "python"
    }
  },
  "cells": [
    {
      "cell_type": "markdown",
      "metadata": {
        "id": "view-in-github",
        "colab_type": "text"
      },
      "source": [
        "<a href=\"https://colab.research.google.com/github/Mitravanu/test-collab/blob/main/pythonpractice.ipynb\" target=\"_parent\"><img src=\"https://colab.research.google.com/assets/colab-badge.svg\" alt=\"Open In Colab\"/></a>"
      ]
    },
    {
      "cell_type": "code",
      "metadata": {
        "id": "HBfl2c1lvznG",
        "colab": {
          "base_uri": "https://localhost:8080/",
          "height": 130
        },
        "outputId": "615014d9-91a6-4f4a-db3e-f1bb61004250"
      },
      "source": [
        "def add_numbers(a, b=2, c):\n",
        "    print(a + b + c)\n",
        "\n",
        "add_numbers(a=1,b=2, c=3)\n",
        "\n"
      ],
      "execution_count": null,
      "outputs": [
        {
          "output_type": "error",
          "ename": "SyntaxError",
          "evalue": "ignored",
          "traceback": [
            "\u001b[0;36m  File \u001b[0;32m\"<ipython-input-2-5d0802a4a5f0>\"\u001b[0;36m, line \u001b[0;32m1\u001b[0m\n\u001b[0;31m    def add_numbers(a, b=2, c):\u001b[0m\n\u001b[0m                   ^\u001b[0m\n\u001b[0;31mSyntaxError\u001b[0m\u001b[0;31m:\u001b[0m non-default argument follows default argument\n"
          ]
        }
      ]
    },
    {
      "cell_type": "code",
      "metadata": {
        "colab": {
          "base_uri": "https://localhost:8080/"
        },
        "id": "JgCZ8Xh8hWR9",
        "outputId": "4863acc1-533c-4fc1-e8a6-6442e5564dcf"
      },
      "source": [
        "weight=int(input(\"Enter the weight\"))\n",
        "if weight%2==0:\n",
        "  print(\"yes\")\n",
        "else:\n",
        "  print(\"No\")"
      ],
      "execution_count": null,
      "outputs": [
        {
          "output_type": "stream",
          "text": [
            "Enter the weight20\n",
            "yes\n"
          ],
          "name": "stdout"
        }
      ]
    },
    {
      "cell_type": "code",
      "metadata": {
        "colab": {
          "base_uri": "https://localhost:8080/"
        },
        "id": "jfI3UnojuUvM",
        "outputId": "b0a184a1-efc6-4950-970a-1f6ca572c419"
      },
      "source": [
        "def factorial(n):\n",
        "    fact=1\n",
        "    for i in range(1,n+1):\n",
        "        fact=fact*i\n",
        "    return fact\n",
        "\n",
        "print(factorial(5))"
      ],
      "execution_count": null,
      "outputs": [
        {
          "output_type": "stream",
          "text": [
            "120\n"
          ],
          "name": "stdout"
        }
      ]
    },
    {
      "cell_type": "code",
      "metadata": {
        "colab": {
          "base_uri": "https://localhost:8080/"
        },
        "id": "Vu2959JZYM96",
        "outputId": "9843b423-2ee9-413c-9d14-ee80e1b7c842"
      },
      "source": [
        "school_class = {}\n",
        "\n",
        "while True:\n",
        "    name = input(\"Enter the student's name: \")\n",
        "    if name == '':\n",
        "        break\n",
        "    \n",
        "    score = int(input(\"Enter the student's score (0-10): \"))\n",
        "    if score not in range(0, 11):\n",
        "\t    break\n",
        "    \n",
        "    if name in school_class:\n",
        "        school_class[name] += (score,)\n",
        "    else:\n",
        "        school_class[name] = (score,)\n",
        "print(school_class)\n",
        "        \n",
        "for name in sorted(school_class.keys()):\n",
        "    adding = 0\n",
        "    counter = 0\n",
        "    for score in school_class[name]:\n",
        "        adding += score\n",
        "        counter += 1\n",
        "    print(name, \":\", adding / counter)\n"
      ],
      "execution_count": null,
      "outputs": [
        {
          "output_type": "stream",
          "text": [
            "Enter the student's name: a\n",
            "Enter the student's score (0-10): 5\n",
            "Enter the student's name: a\n",
            "Enter the student's score (0-10): 6\n",
            "Enter the student's name: b\n",
            "Enter the student's score (0-10): 7\n",
            "Enter the student's name: b\n",
            "Enter the student's score (0-10): 3\n",
            "Enter the student's name: \n",
            "{'a': (5, 6), 'b': (7, 3)}\n",
            "a : 5.5\n",
            "b : 5.0\n"
          ],
          "name": "stdout"
        }
      ]
    },
    {
      "cell_type": "code",
      "metadata": {
        "colab": {
          "base_uri": "https://localhost:8080/"
        },
        "id": "dA52pfjBffnS",
        "outputId": "9d629eda-29d5-4374-bb43-0480de8ee3f7"
      },
      "source": [
        "pol_eng_dictionary = {\n",
        "    \"zamek\": \"castle\",\n",
        "    \"woda\": \"water\",\n",
        "    \"gleba\": \"soil\"\n",
        "    }\n",
        "\n",
        "for key, value in pol_eng_dictionary.items():\n",
        "    print(\"Pol/Eng ->\", key, \":\", value)\n",
        "\n"
      ],
      "execution_count": null,
      "outputs": [
        {
          "output_type": "stream",
          "text": [
            "Pol/Eng -> zamek : castle\n",
            "Pol/Eng -> woda : water\n",
            "Pol/Eng -> gleba : soil\n"
          ],
          "name": "stdout"
        }
      ]
    },
    {
      "cell_type": "code",
      "metadata": {
        "colab": {
          "base_uri": "https://localhost:8080/"
        },
        "id": "gm6UWXTgjrWV",
        "outputId": "45ec60ba-105a-4eae-b51b-b2f61ff56101"
      },
      "source": [
        "n=int(input(\"enter nos\"))\n",
        "count=0\n",
        "for i in range(n):\n",
        "  p,v,t = map(int,input().split())\n",
        "  if (p==0 or p==1) and (v==0 or v==1) and (t==0 or t==1) :\n",
        "    sum=p+v+t\n",
        "    if sum>=2:\n",
        "      count+=1\n",
        "  else:\n",
        "    print(\"input not valid\")\n",
        "    break\n",
        "print(count)\n",
        "\n"
      ],
      "execution_count": null,
      "outputs": [
        {
          "output_type": "stream",
          "text": [
            "enter nos2\n",
            "2 4 5\n",
            "input not valid\n",
            "0\n"
          ],
          "name": "stdout"
        }
      ]
    },
    {
      "cell_type": "code",
      "metadata": {
        "colab": {
          "base_uri": "https://localhost:8080/"
        },
        "id": "g9aAKGktlD3n",
        "outputId": "8ec5d294-4253-476b-9ead-9c82ac7d26cd"
      },
      "source": [
        "from random import randrange\n",
        "\n",
        "\n",
        "def display_board(board):\n",
        "\tprint(\"+-------\" * 3,\"+\", sep=\"\")\n",
        "\tfor row in range(3):\n",
        "\t\tprint(\"|       \" * 3,\"|\", sep=\"\")\n",
        "\t\tfor col in range(3):\n",
        "\t\t\tprint(\"|   \" + str(board[row][col]) + \"   \", end=\"\")\n",
        "\t\tprint(\"|\")\n",
        "\t\tprint(\"|       \" * 3,\"|\",sep=\"\")\n",
        "\t\tprint(\"+-------\" * 3,\"+\",sep=\"\")\n",
        "\n",
        "\n",
        "def enter_move(board):\n",
        "\tok = False\t# fake assumption - we need it to enter the loop\n",
        "\twhile not ok:\n",
        "\t\tmove = input(\"Enter your move: \") \n",
        "\t\tok = len(move) == 1 and move >= '1' and move <= '9' # is user's input valid?\n",
        "\t\tif not ok:\n",
        "\t\t\tprint(\"Bad move - repeat your input!\") # no, it isn't - do the input again\n",
        "\t\t\tcontinue\n",
        "\t\tmove = int(move) - 1 \t# cell's number from 0 to 8\n",
        "\t\trow = move // 3 \t# cell's row\n",
        "\t\tcol = move % 3\t\t# cell's column\n",
        "\t\tsign = board[row][col]\t# check the selected square\n",
        "\t\tok = sign not in ['O','X'] \n",
        "\t\tif not ok:\t# it's occupied - to the input again\n",
        "\t\t\tprint(\"Field already occupied - repeat your input!\")\n",
        "\t\t\tcontinue\n",
        "\tboard[row][col] = 'O' \t# set '0' at the selected square\n",
        "\n",
        "\n",
        "def make_list_of_free_fields(board):\n",
        "\tfree = []\t# the list is empty initially\n",
        "\tfor row in range(3): # iterate through rows\n",
        "\t\tfor col in range(3): # iterate through columns\n",
        "\t\t\tif board[row][col] not in ['O','X']: # is the cell free?\n",
        "\t\t\t\tfree.append((row,col)) # yes, it is - append new tuple to the list\n",
        "\treturn free\n",
        "\n",
        "\n",
        "def victory_for(board,sgn):\n",
        "\tif sgn == \"X\":\t# are we looking for X?\n",
        "\t\twho = 'me'\t# yes - it's computer's side\n",
        "\telif sgn == \"O\": # ... or for O?\n",
        "\t\twho = 'you'\t# yes - it's our side\n",
        "\telse:\n",
        "\t\twho = None\t# we should not fall here!\n",
        "\tcross1 = cross2 = True  # for diagonals\n",
        "\tfor rc in range(3):\n",
        "\t\tif board[rc][0] == sgn and board[rc][1] == sgn and board[rc][2] == sgn:\t# check row rc\n",
        "\t\t\treturn who\n",
        "\t\tif board[0][rc] == sgn and board[1][rc] == sgn and board[2][rc] == sgn: # check column rc\n",
        "\t\t\treturn who\n",
        "\t\tif board[rc][rc] != sgn: # check 1st diagonal\n",
        "\t\t\tcross1 = False\n",
        "\t\tif board[2 - rc][2 - rc] != sgn: # check 2nd diagonal\n",
        "\t\t\tcross2 = False\n",
        "\tif cross1 or cross2:\n",
        "\t\treturn who\n",
        "\treturn None\n",
        "\n",
        "\n",
        "def draw_move(board):\n",
        "\tfree = make_list_of_free_fields(board) # make a list of free fields\n",
        "\tcnt = len(free)\n",
        "\tif cnt > 0:\t# if the list is not empty, choose a place for 'X' and set it\n",
        "\t\tthis = randrange(cnt)\n",
        "\t\trow, col = free[this]\n",
        "\t\tboard[row][col] = 'X'\n",
        "\n",
        "\n",
        "board = [ [3 * j + i + 1 for i in range(3)] for j in range(3) ] # make an empty board\n",
        "board[1][1] = 'X' # set first 'X' in the middle\n",
        "free = make_list_of_free_fields(board)\n",
        "human_turn = True # which turn is it now?\n",
        "while len(free):\n",
        "\tdisplay_board(board)\n",
        "\tif human_turn:\n",
        "\t\tenter_move(board)\n",
        "\t\tvictor = victory_for(board,'O')\n",
        "\telse:\t\n",
        "\t\tdraw_move(board)\n",
        "\t\tvictor = victory_for(board,'X')\n",
        "\tif victor != None:\n",
        "\t\tbreak\n",
        "\thuman_turn = not human_turn\t\t\n",
        "\tfree = make_list_of_free_fields(board)\n",
        "\n",
        "display_board(board)\n",
        "if victor == 'you':\n",
        "\tprint(\"You won!\")\n",
        "elif victor == 'me':\n",
        "\tprint(\"I won\")\n",
        "else:\n",
        "\tprint(\"Tie!\")\n"
      ],
      "execution_count": null,
      "outputs": [
        {
          "output_type": "stream",
          "text": [
            "+-------+-------+-------+\n",
            "|       |       |       |\n",
            "|   1   |   2   |   3   |\n",
            "|       |       |       |\n",
            "+-------+-------+-------+\n",
            "|       |       |       |\n",
            "|   4   |   X   |   6   |\n",
            "|       |       |       |\n",
            "+-------+-------+-------+\n",
            "|       |       |       |\n",
            "|   7   |   8   |   9   |\n",
            "|       |       |       |\n",
            "+-------+-------+-------+\n",
            "Enter your move: 1\n",
            "+-------+-------+-------+\n",
            "|       |       |       |\n",
            "|   O   |   2   |   3   |\n",
            "|       |       |       |\n",
            "+-------+-------+-------+\n",
            "|       |       |       |\n",
            "|   4   |   X   |   6   |\n",
            "|       |       |       |\n",
            "+-------+-------+-------+\n",
            "|       |       |       |\n",
            "|   7   |   8   |   9   |\n",
            "|       |       |       |\n",
            "+-------+-------+-------+\n",
            "+-------+-------+-------+\n",
            "|       |       |       |\n",
            "|   O   |   X   |   3   |\n",
            "|       |       |       |\n",
            "+-------+-------+-------+\n",
            "|       |       |       |\n",
            "|   4   |   X   |   6   |\n",
            "|       |       |       |\n",
            "+-------+-------+-------+\n",
            "|       |       |       |\n",
            "|   7   |   8   |   9   |\n",
            "|       |       |       |\n",
            "+-------+-------+-------+\n",
            "Enter your move: 8\n",
            "+-------+-------+-------+\n",
            "|       |       |       |\n",
            "|   O   |   X   |   3   |\n",
            "|       |       |       |\n",
            "+-------+-------+-------+\n",
            "|       |       |       |\n",
            "|   4   |   X   |   6   |\n",
            "|       |       |       |\n",
            "+-------+-------+-------+\n",
            "|       |       |       |\n",
            "|   7   |   O   |   9   |\n",
            "|       |       |       |\n",
            "+-------+-------+-------+\n",
            "+-------+-------+-------+\n",
            "|       |       |       |\n",
            "|   O   |   X   |   3   |\n",
            "|       |       |       |\n",
            "+-------+-------+-------+\n",
            "|       |       |       |\n",
            "|   4   |   X   |   6   |\n",
            "|       |       |       |\n",
            "+-------+-------+-------+\n",
            "|       |       |       |\n",
            "|   7   |   O   |   X   |\n",
            "|       |       |       |\n",
            "+-------+-------+-------+\n",
            "Enter your move: 7\n",
            "+-------+-------+-------+\n",
            "|       |       |       |\n",
            "|   O   |   X   |   3   |\n",
            "|       |       |       |\n",
            "+-------+-------+-------+\n",
            "|       |       |       |\n",
            "|   4   |   X   |   6   |\n",
            "|       |       |       |\n",
            "+-------+-------+-------+\n",
            "|       |       |       |\n",
            "|   O   |   O   |   X   |\n",
            "|       |       |       |\n",
            "+-------+-------+-------+\n",
            "+-------+-------+-------+\n",
            "|       |       |       |\n",
            "|   O   |   X   |   X   |\n",
            "|       |       |       |\n",
            "+-------+-------+-------+\n",
            "|       |       |       |\n",
            "|   4   |   X   |   6   |\n",
            "|       |       |       |\n",
            "+-------+-------+-------+\n",
            "|       |       |       |\n",
            "|   O   |   O   |   X   |\n",
            "|       |       |       |\n",
            "+-------+-------+-------+\n",
            "Enter your move: 4\n",
            "+-------+-------+-------+\n",
            "|       |       |       |\n",
            "|   O   |   X   |   X   |\n",
            "|       |       |       |\n",
            "+-------+-------+-------+\n",
            "|       |       |       |\n",
            "|   O   |   X   |   6   |\n",
            "|       |       |       |\n",
            "+-------+-------+-------+\n",
            "|       |       |       |\n",
            "|   O   |   O   |   X   |\n",
            "|       |       |       |\n",
            "+-------+-------+-------+\n",
            "You won!\n"
          ],
          "name": "stdout"
        }
      ]
    },
    {
      "cell_type": "code",
      "metadata": {
        "colab": {
          "base_uri": "https://localhost:8080/",
          "height": 132
        },
        "id": "iaZyUiX7NeCk",
        "outputId": "8ef1d650-ce69-40e7-b8c5-02225ed03539"
      },
      "source": [
        "n,k = map(int,input().split())\n",
        "score_list=[]\n",
        "count=0\n",
        "score_list = list(map(int,input().split())\n",
        "for num in score_list:\n",
        "  if num > 0 and num>score_list[k]:\n",
        "    count+=1\n",
        "print(count)\n",
        "\n",
        "\n",
        "   \n",
        " \n"
      ],
      "execution_count": null,
      "outputs": [
        {
          "output_type": "error",
          "ename": "SyntaxError",
          "evalue": "ignored",
          "traceback": [
            "\u001b[0;36m  File \u001b[0;32m\"<ipython-input-13-8d4be04c9ad4>\"\u001b[0;36m, line \u001b[0;32m5\u001b[0m\n\u001b[0;31m    for num in score_list:\u001b[0m\n\u001b[0m                         ^\u001b[0m\n\u001b[0;31mSyntaxError\u001b[0m\u001b[0;31m:\u001b[0m invalid syntax\n"
          ]
        }
      ]
    },
    {
      "cell_type": "code",
      "metadata": {
        "id": "1_p1hN4Cc8cU"
      },
      "source": [
        "def happy_new_year(wishes = True):\n",
        "    print(\"Three...\")\n",
        "    print(\"Two...\")\n",
        "    print(\"One...\")\n",
        "    if not wishes:\n",
        "        return\n",
        "    \n",
        "    print(\"Happy New Year!\")"
      ],
      "execution_count": null,
      "outputs": []
    },
    {
      "cell_type": "code",
      "metadata": {
        "colab": {
          "base_uri": "https://localhost:8080/"
        },
        "id": "1nf9bzmMjnC5",
        "outputId": "5fa29ee6-5f98-49b1-b0b4-26c047aa09f2"
      },
      "source": [
        "def is_year_leap(year):\n",
        "    if year % 100 == 0:\n",
        "        if year%400 == 0:\n",
        "          return True\n",
        "        else:\n",
        "          return False\n",
        "    if year % 4 == 0:\n",
        "        return True\n",
        "    else:\n",
        "        return False\n",
        "test_data = [1900, 2000, 2016, 1987]\n",
        "test_results = [False, True, True, False]\n",
        "for i in range(len(test_data)):\n",
        "\tyr = test_data[i]\n",
        "\tprint(yr,\"->\",end=\"\")\n",
        "\tresult = is_year_leap(yr)\n",
        "\tif result == test_results[i]:\n",
        "\t\tprint(\"OK\")\n",
        "\telse:\n",
        "\t\tprint(\"Failed\")\n"
      ],
      "execution_count": null,
      "outputs": [
        {
          "output_type": "stream",
          "text": [
            "1900 ->OK\n",
            "2000 ->OK\n",
            "2016 ->OK\n",
            "1987 ->OK\n"
          ],
          "name": "stdout"
        }
      ]
    },
    {
      "cell_type": "code",
      "metadata": {
        "colab": {
          "base_uri": "https://localhost:8080/"
        },
        "id": "nJcU8eVqmhDV",
        "outputId": "e28b20f3-6b06-46d7-bc19-effc565533b5"
      },
      "source": [
        "def is_year_leap(year):\n",
        "  if year % 100 == 0:\n",
        "        if year%400 == 0:\n",
        "          return True\n",
        "        else:\n",
        "          return False\n",
        "        if year % 4 == 0:\n",
        "         return True\n",
        "        else:\n",
        "         return False\n",
        "\n",
        "def days_in_month(year, month):\n",
        "    if month == 1 or month == 3 or month == 5  or month == 7 or month == 8 or month == 10 or month == 12:\n",
        "        return 31 \n",
        "    elif month == 4 or month == 6 or month == 9 or month == 11:\n",
        "        return 30\n",
        "    else:\n",
        "        if is_year_leap(year):\n",
        "            return 29\n",
        "        else:\n",
        "            return 28\n",
        "test_years = [1900, 2000, 2016, 1987]\n",
        "test_months = [2, 2, 1, 11]\n",
        "test_results = [28, 29, 31, 30]\n",
        "for i in range(len(test_years)):\n",
        "\tyr = test_years[i]\n",
        "\tmo = test_months[i]\n",
        "\tprint(yr, mo, \"->\", end=\"\")\n",
        "\tresult = days_in_month(yr, mo)\n",
        "\tif result == test_results[i]:\n",
        "\t\tprint(\"OK\")\n",
        "\telse:\n",
        "\t\tprint(\"Failed\")\n"
      ],
      "execution_count": null,
      "outputs": [
        {
          "output_type": "stream",
          "text": [
            "1900 2 ->OK\n",
            "2000 2 ->OK\n",
            "2016 1 ->OK\n",
            "1987 11 ->OK\n"
          ],
          "name": "stdout"
        }
      ]
    },
    {
      "cell_type": "code",
      "metadata": {
        "colab": {
          "base_uri": "https://localhost:8080/"
        },
        "id": "9Kjq6y9DqNvQ",
        "outputId": "2a3f9223-294c-4bac-eb5b-4c90a7798cee"
      },
      "source": [
        "def is_year_leap(year):\n",
        "    if year % 100 == 0:\n",
        "        if year%400 == 0:\n",
        "          return True\n",
        "        else:\n",
        "          return False\n",
        "    if year % 4 == 0:\n",
        "        return True\n",
        "    else:\n",
        "        return False\n",
        "\n",
        "def days_in_month(year, month):\n",
        "    if month == 1 or month == 3 or month == 5  or month == 7 or month == 8 or month == 10 or month == 12:\n",
        "        return 31 \n",
        "    elif month == 4 or month == 6 or month == 9 or month == 11:\n",
        "        return 30\n",
        "    else:\n",
        "        if is_year_leap(year):\n",
        "            return 29\n",
        "        else:\n",
        "            return 28\n",
        "\n",
        "def day_of_year(year, month, day):\n",
        "    if month <= 12 and day<=days_in_month(year,month):\n",
        "        no_of_days=0\n",
        "        for i in range(1,month):\n",
        "            no_of_days+=days_in_month(year,i)\n",
        "        no_of_days+=day\n",
        "        return no_of_days\n",
        "            \n",
        "    \n",
        "        \n",
        "print(day_of_year(2000, 12, 31))\n"
      ],
      "execution_count": null,
      "outputs": [
        {
          "output_type": "stream",
          "text": [
            "366\n"
          ],
          "name": "stdout"
        }
      ]
    },
    {
      "cell_type": "code",
      "metadata": {
        "id": "uRhyCVqnN0F2"
      },
      "source": [
        "-li"
      ],
      "execution_count": null,
      "outputs": []
    }
  ]
}